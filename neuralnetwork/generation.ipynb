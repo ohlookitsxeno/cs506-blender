{
 "cells": [
  {
   "cell_type": "code",
   "execution_count": 1,
   "metadata": {},
   "outputs": [
    {
     "name": "stderr",
     "output_type": "stream",
     "text": [
      "2024-11-21 22:18:32.145443: E external/local_xla/xla/stream_executor/cuda/cuda_fft.cc:477] Unable to register cuFFT factory: Attempting to register factory for plugin cuFFT when one has already been registered\n",
      "WARNING: All log messages before absl::InitializeLog() is called are written to STDERR\n",
      "E0000 00:00:1732245512.162617   48659 cuda_dnn.cc:8310] Unable to register cuDNN factory: Attempting to register factory for plugin cuDNN when one has already been registered\n",
      "E0000 00:00:1732245512.167548   48659 cuda_blas.cc:1418] Unable to register cuBLAS factory: Attempting to register factory for plugin cuBLAS when one has already been registered\n",
      "2024-11-21 22:18:32.185343: I tensorflow/core/platform/cpu_feature_guard.cc:210] This TensorFlow binary is optimized to use available CPU instructions in performance-critical operations.\n",
      "To enable the following instructions: AVX2 FMA, in other operations, rebuild TensorFlow with the appropriate compiler flags.\n"
     ]
    }
   ],
   "source": [
    "import numpy as np\n",
    "import tensorflow.keras as keras\n",
    "from tensorflow.keras.initializers import Zeros\n",
    "import sklearn.datasets as datasets"
   ]
  },
  {
   "cell_type": "code",
   "execution_count": 2,
   "metadata": {},
   "outputs": [],
   "source": [
    "CENTERS = [[0, 0]]\n",
    "DATA, _ = datasets.make_blobs(\n",
    "        n_samples=200,\n",
    "        centers=CENTERS,\n",
    "        cluster_std=1,\n",
    "        random_state=1\n",
    "    )\n",
    "\n",
    "cw1 = -1 \n",
    "cw2 = 1\n",
    "cb = -1\n",
    "\n",
    "sw1 = -1\n",
    "sw2 = 1\n",
    "sb = 1\n",
    "\n",
    "X = np.array(list(filter(lambda x : cw1 * x[0] + cw2 * x[1] + cb < -.5 or cw1 * x[0] + cw2 * x[1] + cb > .5, DATA)))\n",
    "X = np.array(list(filter(lambda x : sw1 * x[0] + sw2 * x[1] + sb < -.5 or sw1 * x[0] + sw2 * x[1] + sb > .5, X)))\n",
    "C = np.array([0 if cw1 * x[0] + cw2 * x[1] + cb >= 0 else 1 for x in X])\n",
    "S = np.array([0 if sw1 * x[0] + sw2 * x[1] + sb >= 0 else 1 for x in X])\n",
    "pass_fail = C ^ S\n"
   ]
  },
  {
   "cell_type": "code",
   "execution_count": 3,
   "metadata": {},
   "outputs": [
    {
     "name": "stderr",
     "output_type": "stream",
     "text": [
      "/home/xeno/Documents/cs506/cs506-blender/venv/lib/python3.12/site-packages/keras/src/layers/core/dense.py:87: UserWarning: Do not pass an `input_shape`/`input_dim` argument to a layer. When using Sequential models, prefer using an `Input(shape)` object as the first layer in the model instead.\n",
      "  super().__init__(activity_regularizer=activity_regularizer, **kwargs)\n",
      "W0000 00:00:1732244353.628030   46766 gpu_device.cc:2344] Cannot dlopen some GPU libraries. Please make sure the missing libraries mentioned above are installed properly if you would like to use GPU. Follow the guide at https://www.tensorflow.org/install/gpu for how to download and setup the required libraries for your platform.\n",
      "Skipping registering GPU devices...\n"
     ]
    }
   ],
   "source": [
    "\n",
    "model = keras.models.Sequential()\n",
    "model.add(keras.layers.Dense(2, input_dim=2, activation=\"sigmoid\", kernel_initializer=Zeros(), bias_initializer=Zeros()))\n",
    "model.add(keras.layers.Dense(1, activation=\"sigmoid\", kernel_initializer=Zeros(), bias_initializer=Zeros()))\n",
    "model.compile(loss=\"binary_crossentropy\")\n"
   ]
  }
 ],
 "metadata": {
  "kernelspec": {
   "display_name": "venv",
   "language": "python",
   "name": "python3"
  },
  "language_info": {
   "codemirror_mode": {
    "name": "ipython",
    "version": 3
   },
   "file_extension": ".py",
   "mimetype": "text/x-python",
   "name": "python",
   "nbconvert_exporter": "python",
   "pygments_lexer": "ipython3",
   "version": "3.12.3"
  }
 },
 "nbformat": 4,
 "nbformat_minor": 2
}
